{
 "cells": [
  {
   "cell_type": "markdown",
   "id": "7f269260",
   "metadata": {},
   "source": [
    "<p>Write a program that download and reads the given log file, then outputs how many times IP addresses were blocked in this file</p>"
   ]
  },
  {
   "cell_type": "code",
   "execution_count": 87,
   "id": "ea290d48",
   "metadata": {},
   "outputs": [],
   "source": [
    "import pandas as pd\n",
    "import numpy as np\n",
    "import requests\n",
    "\n",
    "URL = \"https://public.karat.io/content/test/test_log.txt\"\n",
    "response = requests.get(URL)\n",
    "open(\"test_log.txt\", \"wb\").write(response.content)\n",
    "\n",
    "test_data = pd.read_csv('./test_log.txt', sep=' ', names=['Date', 'Time', 'Status', 'IP'], header=None)"
   ]
  },
  {
   "cell_type": "code",
   "execution_count": 102,
   "id": "e3602b18",
   "metadata": {},
   "outputs": [
    {
     "data": {
      "text/plain": [
       "668"
      ]
     },
     "execution_count": 102,
     "metadata": {},
     "output_type": "execute_result"
    }
   ],
   "source": [
    "#test_data.groupby('Status').count()[['IP']]\n",
    "test_data[test_data['Status']=='Block'].count()[['IP']].values[0]"
   ]
  },
  {
   "cell_type": "markdown",
   "id": "20aef764",
   "metadata": {},
   "source": [
    "<p>Which IP addresses are blocked at 2:00AM</p>"
   ]
  },
  {
   "cell_type": "code",
   "execution_count": 106,
   "id": "ccc95b7f",
   "metadata": {},
   "outputs": [
    {
     "name": "stdout",
     "output_type": "stream",
     "text": [
      " 158.201.213.1\n",
      "185.214.25.128\n",
      "   2.96.244.81\n",
      " 3.145.146.113\n",
      "  48.94.33.214\n",
      "  53.118.78.56\n",
      " 66.23.206.238\n"
     ]
    }
   ],
   "source": [
    "def compare_time(row):\n",
    "    return int(row['Time'].split(\":\")[0])\n",
    "\n",
    "test_data['hour'] = test_data.apply(compare_time, axis=1)\n",
    "size_data = test_data[test_data.hour < 2].groupby('IP').size().to_frame('size')\n",
    "size_data.reset_index(level=0, inplace=True)\n",
    "result = size_data[size_data['size'] % 2 == 1][['IP']]\n",
    "print((result['IP']).to_string(index=False))"
   ]
  }
 ],
 "metadata": {
  "kernelspec": {
   "display_name": "Python 3",
   "language": "python",
   "name": "python3"
  },
  "language_info": {
   "codemirror_mode": {
    "name": "ipython",
    "version": 3
   },
   "file_extension": ".py",
   "mimetype": "text/x-python",
   "name": "python",
   "nbconvert_exporter": "python",
   "pygments_lexer": "ipython3",
   "version": "3.8.8"
  }
 },
 "nbformat": 4,
 "nbformat_minor": 5
}
